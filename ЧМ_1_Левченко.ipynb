{
  "nbformat": 4,
  "nbformat_minor": 0,
  "metadata": {
    "colab": {
      "provenance": [],
      "authorship_tag": "ABX9TyN7AyYniNMTFgDIrksNvo/r",
      "include_colab_link": true
    },
    "kernelspec": {
      "name": "python3",
      "display_name": "Python 3"
    },
    "language_info": {
      "name": "python"
    }
  },
  "cells": [
    {
      "cell_type": "markdown",
      "metadata": {
        "id": "view-in-github",
        "colab_type": "text"
      },
      "source": [
        "<a href=\"https://colab.research.google.com/github/alevchencko/-2-8-/blob/main/%D0%A7%D0%9C_1_%D0%9B%D0%B5%D0%B2%D1%87%D0%B5%D0%BD%D0%BA%D0%BE.ipynb\" target=\"_parent\"><img src=\"https://colab.research.google.com/assets/colab-badge.svg\" alt=\"Open In Colab\"/></a>"
      ]
    },
    {
      "cell_type": "code",
      "execution_count": 2,
      "metadata": {
        "colab": {
          "base_uri": "https://localhost:8080/"
        },
        "id": "IwC5VAHGG38I",
        "outputId": "88a535e9-59ef-43d8-c72c-e8bf12f12bff"
      },
      "outputs": [
        {
          "output_type": "stream",
          "name": "stdout",
          "text": [
            "Перша рівність точніше з відносною похибкою: 0.00015\n"
          ]
        }
      ],
      "source": [
        "import numpy as np\n",
        "def relative_error(x, y):\n",
        "# Обчислює відносну похибку\n",
        "    return np.abs(x - y) / np.abs(x)\n",
        "def task1():\n",
        "    x1_exact = np.sqrt(52)  # Точне значення sqrt(52)\n",
        "    x2_exact = 17 / 19  # Точне значення 17/19\n",
        "    x1_approx = 7.21  # Наближене значення sqrt(52)\n",
        "    x2_approx = 0.895  # Наближене значення 17/19\n",
        "    rel_error_x1 = relative_error(x1_exact, x1_approx)\n",
        "    rel_error_x2 = relative_error(x2_exact, x2_approx)\n",
        "    if rel_error_x1 < rel_error_x2:\n",
        "        print(\"Перша рівність точніше з відносною похибкою:\", round(rel_error_x1, 5))\n",
        "    elif rel_error_x2 < rel_error_x1:\n",
        "        print(\"Друга рівність точніше з відносною похибкою:\", round(rel_error_x2, 5))\n",
        "    else:\n",
        "        print(\"Обидві рівності мають однакову точність з відносною похибкою:\", round(rel_error_x2, 5))\n",
        "task1()"
      ]
    },
    {
      "cell_type": "code",
      "source": [
        "def task2():\n",
        "    # Данні\n",
        "    x = 13.537\n",
        "    delta_x = 0.0026\n",
        "    y = 7.521\n",
        "    delta_y = 8 * 0.0012  # Застосовуємо похибку у відсотках: 8 * 0.12%\n",
        "    # Обчислення відносної похибки\n",
        "    omega_x = delta_x / x\n",
        "    omega_y = delta_y / y\n",
        "    print('Відносна похибка значення величини X:', round(omega_x, 6))\n",
        "    print('Відносна похибка значення величини Y:', round(omega_y, 6))\n",
        "task2()\n"
      ],
      "metadata": {
        "colab": {
          "base_uri": "https://localhost:8080/"
        },
        "id": "OEGd0wEgJu-4",
        "outputId": "d2584325-4192-409e-8112-cee9e846ec63"
      },
      "execution_count": 3,
      "outputs": [
        {
          "output_type": "stream",
          "name": "stdout",
          "text": [
            "Відносна похибка значення величини X: 0.000192\n",
            "Відносна похибка значення величини Y: 0.001276\n"
          ]
        }
      ]
    },
    {
      "cell_type": "code",
      "source": [
        "import numpy as np\n",
        "\n",
        "def delta_sum(delta_x, delta_y):\n",
        "    \"\"\"Обчислює абсолютну похибку для додавання.\"\"\"\n",
        "    return delta_x + delta_y\n",
        "\n",
        "def delta_sub(delta_x, delta_y):\n",
        "    \"\"\"Обчислює абсолютну похибку для віднімання.\"\"\"\n",
        "    return delta_x + delta_y\n",
        "\n",
        "def delta_mult(x, y, delta_x, delta_y):\n",
        "    \"\"\"Обчислює абсолютну похибку для множення.\"\"\"\n",
        "    return np.abs(x * delta_y) + np.abs(y * delta_x) + delta_x * delta_y\n",
        "def omega_sum(x, y, omega_x, omega_y):\n",
        "    \"\"\"Обчислює відносну похибку для додавання.\"\"\"\n",
        "    return (x / (x + y)) * omega_x + (y / (x + y)) * omega_y\n",
        "def omega_sub(x, y, omega_x, omega_y):\n",
        "    \"\"\"Обчислює відносну похибку для віднімання.\"\"\"\n",
        "    return x / (x - y) * omega_x - y / (x - y) * omega_y\n",
        "def omega_mult(omega_x, omega_y):\n",
        "    \"\"\"Обчислює відносну похибку для множення.\"\"\"\n",
        "    return omega_x * omega_y + omega_x + omega_y\n",
        "def omega_div(omega_x, omega_y):\n",
        "    \"\"\"Обчислює відносну похибку для ділення.\"\"\"\n",
        "    return (omega_x - omega_y) / (omega_y + 1)\n",
        "def task3():\n",
        "    # Данні\n",
        "    x = 5.634\n",
        "    delta_x = 0.0005  # Вважатимемо малу похибку для демонстрації\n",
        "    y = 0.0748\n",
        "    delta_y = 0.0001  # Вважатимемо малу похибку для демонстрації\n",
        "    # Абсолютні похибки для додавання та віднімання\n",
        "    print('Абсолютна похибка X + Y:', delta_sum(delta_x, delta_y))\n",
        "    print('Абсолютна похибка X - Y:', delta_sub(delta_x, delta_y))\n",
        "    # Абсолютна похибка для множення\n",
        "    print('Абсолютна похибка X * Y:', delta_mult(x, y, delta_x, delta_y))\n",
        "    # Відносна похибка для додавання\n",
        "    omega_x = delta_x / x\n",
        "    omega_y = delta_y / y\n",
        "    print('Відносна похибка X + Y:', omega_sum(x, y, omega_x, omega_y))\n",
        "    # Відносна похибка для віднімання\n",
        "    print('Відносна похибка X - Y:', omega_sub(x, y, omega_x, omega_y))\n",
        "    # Відносна похибка для множення\n",
        "    print('Відносна похибка X * Y:', omega_mult(omega_x, omega_y))\n",
        "    # Відносна похибка для ділення\n",
        "    print('Відносна похибка X / Y:', omega_div(omega_x, omega_y))\n",
        "task3()"
      ],
      "metadata": {
        "colab": {
          "base_uri": "https://localhost:8080/"
        },
        "id": "QwPwMsJ8JvLr",
        "outputId": "9efb983f-2906-4012-bf50-1d8ca1ba82ed"
      },
      "execution_count": 5,
      "outputs": [
        {
          "output_type": "stream",
          "name": "stdout",
          "text": [
            "Абсолютна похибка X + Y: 0.0006000000000000001\n",
            "Абсолютна похибка X - Y: 0.0006000000000000001\n",
            "Абсолютна похибка X * Y: 0.0006008500000000001\n",
            "Відносна похибка X + Y: 0.00010510089686098655\n",
            "Відносна похибка X - Y: 7.19527989638797e-05\n",
            "Відносна похибка X * Y: 0.001425763935160665\n",
            "Відносна похибка X / Y: -0.0012464850779621913\n"
          ]
        }
      ]
    }
  ]
}