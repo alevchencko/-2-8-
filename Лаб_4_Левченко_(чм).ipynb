{
  "nbformat": 4,
  "nbformat_minor": 0,
  "metadata": {
    "colab": {
      "provenance": [],
      "authorship_tag": "ABX9TyNwQmShFtUocyGTxnmMR2KA",
      "include_colab_link": true
    },
    "kernelspec": {
      "name": "python3",
      "display_name": "Python 3"
    },
    "language_info": {
      "name": "python"
    }
  },
  "cells": [
    {
      "cell_type": "markdown",
      "metadata": {
        "id": "view-in-github",
        "colab_type": "text"
      },
      "source": [
        "<a href=\"https://colab.research.google.com/github/alevchencko/-2-8-/blob/main/%D0%9B%D0%B0%D0%B1_4_%D0%9B%D0%B5%D0%B2%D1%87%D0%B5%D0%BD%D0%BA%D0%BE_(%D1%87%D0%BC).ipynb\" target=\"_parent\"><img src=\"https://colab.research.google.com/assets/colab-badge.svg\" alt=\"Open In Colab\"/></a>"
      ]
    },
    {
      "cell_type": "code",
      "execution_count": 1,
      "metadata": {
        "colab": {
          "base_uri": "https://localhost:8080/"
        },
        "id": "b-Fp3iDZ_1_9",
        "outputId": "f6d461ed-0f76-4ab2-cd25-f0b79e7d8b06"
      },
      "outputs": [
        {
          "output_type": "stream",
          "name": "stdout",
          "text": [
            "Матриця AB:\n",
            "[[ 7 12 15]\n",
            " [ 0  7 12]\n",
            " [ 0  0  7]]\n",
            "\n",
            "Матриця BA:\n",
            "[[ 7 12 15]\n",
            " [ 0  7 12]\n",
            " [ 0  0  7]]\n",
            "\n",
            "Матриця C = AB - BA:\n",
            "[[0 0 0]\n",
            " [0 0 0]\n",
            " [0 0 0]]\n"
          ]
        }
      ],
      "source": [
        "import numpy as np\n",
        "# Визначаємо матриці A та B\n",
        "A = np.array([\n",
        "    [1, 1, 1],\n",
        "    [0, 1, 1],\n",
        "    [0, 0, 1]\n",
        "])\n",
        "B = np.array([\n",
        "    [7, 5, 3],\n",
        "    [0, 7, 5],\n",
        "    [0, 0, 7]\n",
        "])\n",
        "# Обчислюємо матриці AB і BA\n",
        "AB = np.dot(A, B)\n",
        "BA = np.dot(B, A)\n",
        "# Обчислюємо матрицю C = AB - BA\n",
        "C = AB - BA\n",
        "# Виводимо результати\n",
        "print(\"Матриця AB:\")\n",
        "print(AB)\n",
        "print(\"\\nМатриця BA:\")\n",
        "print(BA)\n",
        "print(\"\\nМатриця C = AB - BA:\")\n",
        "print(C)\n"
      ]
    },
    {
      "cell_type": "code",
      "source": [
        "import numpy as np\n",
        "# Визначаємо матрицю\n",
        "A = np.array([\n",
        "    [-1, 0, 2],\n",
        "    [0, 1, 0],\n",
        "    [1, 2, -1]\n",
        "])\n",
        "# Підносимо матрицю A до степеня 2\n",
        "A_squared = np.dot(A, A)\n",
        "# Виводимо результат\n",
        "print(\"Матриця A^2:\")\n",
        "print(A_squared)\n"
      ],
      "metadata": {
        "colab": {
          "base_uri": "https://localhost:8080/"
        },
        "id": "ZyFdkTuuA-ME",
        "outputId": "0c3b3533-7957-4817-bd94-02f8b007a7a6"
      },
      "execution_count": 2,
      "outputs": [
        {
          "output_type": "stream",
          "name": "stdout",
          "text": [
            "Матриця A^2:\n",
            "[[ 3  4 -4]\n",
            " [ 0  1  0]\n",
            " [-2  0  3]]\n"
          ]
        }
      ]
    },
    {
      "cell_type": "code",
      "source": [
        "import numpy as np\n",
        "# Визначаємо матриці\n",
        "A = np.array([\n",
        "    [3, 5],\n",
        "    [6, -1]\n",
        "])\n",
        "B = np.array([\n",
        "    [2, 1],\n",
        "    [-3, 2]\n",
        "])\n",
        "# Обчислюємо добуток матриць A і B\n",
        "C = np.dot(A, B)\n",
        "# Виводимо результат\n",
        "print(\"Добуток матриць A і B:\")\n",
        "print(C)\n"
      ],
      "metadata": {
        "colab": {
          "base_uri": "https://localhost:8080/"
        },
        "id": "GA5eabsZBD2g",
        "outputId": "4ff13b0e-9c45-4091-e064-8884da4f10d1"
      },
      "execution_count": 3,
      "outputs": [
        {
          "output_type": "stream",
          "name": "stdout",
          "text": [
            "Добуток матриць A і B:\n",
            "[[-9 13]\n",
            " [15  4]]\n"
          ]
        }
      ]
    },
    {
      "cell_type": "code",
      "source": [
        "import numpy as np\n",
        "# Визначаємо матрицю\n",
        "A = np.array([\n",
        "    [2, 4, 5],\n",
        "    [1, 1, 2],\n",
        "    [2, 4, 3]\n",
        "])\n",
        "# Обчислюємо визначник матриці A\n",
        "det_A = np.linalg.det(A)\n",
        "# Виводимо результат\n",
        "print(\"Визначник матриці A:\")\n",
        "print(det_A)"
      ],
      "metadata": {
        "colab": {
          "base_uri": "https://localhost:8080/"
        },
        "id": "hP5RIdACCD8s",
        "outputId": "bd1472f5-0fb0-4a13-c588-94061bd19c6c"
      },
      "execution_count": 4,
      "outputs": [
        {
          "output_type": "stream",
          "name": "stdout",
          "text": [
            "Визначник матриці A:\n",
            "4.0\n"
          ]
        }
      ]
    },
    {
      "cell_type": "code",
      "source": [
        "import numpy as np\n",
        "# Визначаємо матрицю\n",
        "A = np.array([\n",
        "    [2, 3, 4, 1],\n",
        "    [1, 2, 3, 4],\n",
        "    [3, 4, 1, 2],\n",
        "    [4, 1, 2, 3]\n",
        "])\n",
        "# Обчислюємо визначник матриці A\n",
        "det_A = np.linalg.det(A)\n",
        "# Виводимо результат\n",
        "print(\"Визначник матриці A:\")\n",
        "print(det_A)"
      ],
      "metadata": {
        "colab": {
          "base_uri": "https://localhost:8080/"
        },
        "id": "QPUCrgqoCHsU",
        "outputId": "b2efab65-4d94-4597-d78f-579216c24561"
      },
      "execution_count": 5,
      "outputs": [
        {
          "output_type": "stream",
          "name": "stdout",
          "text": [
            "Визначник матриці A:\n",
            "-160.00000000000009\n"
          ]
        }
      ]
    },
    {
      "cell_type": "code",
      "source": [
        "import numpy as np\n",
        "# Визначаємо матрицю\n",
        "A = np.array([\n",
        "    [1, 1, 1, 1],\n",
        "    [1, 1, -1, -1],\n",
        "    [1, -1, 1, -1],\n",
        "    [1, -1, -1, 1]\n",
        "])\n",
        "# Перевіримо, чи матриця є невиродженою (чи існує обернена матриця)\n",
        "det_A = np.linalg.det(A)\n",
        "if det_A != 0:\n",
        "    # Обчислюємо обернену матрицю\n",
        "    A_inv = np.linalg.inv(A)\n",
        "    print(\"Обернена матриця A:\")\n",
        "    print(A_inv)\n",
        "else:\n",
        "    print(\"Матриця є виродженою, обернена матриця не існує.\")"
      ],
      "metadata": {
        "colab": {
          "base_uri": "https://localhost:8080/"
        },
        "id": "o7gli1VpDhnv",
        "outputId": "6b7edf0a-2064-475c-8872-93fd8bf38eb7"
      },
      "execution_count": 6,
      "outputs": [
        {
          "output_type": "stream",
          "name": "stdout",
          "text": [
            "Обернена матриця A:\n",
            "[[ 0.25  0.25  0.25  0.25]\n",
            " [ 0.25  0.25 -0.25 -0.25]\n",
            " [ 0.25 -0.25  0.25 -0.25]\n",
            " [ 0.25 -0.25 -0.25  0.25]]\n"
          ]
        }
      ]
    },
    {
      "cell_type": "code",
      "source": [
        "import numpy as np\n",
        "# Визначаємо матрицю\n",
        "A = np.array([\n",
        "    [1, -1, 3, 4],\n",
        "    [0, -1, 2, 1],\n",
        "    [1, 1, -1, 2],\n",
        "    [2, 3, -5, 3]\n",
        "])\n",
        "# Обчислюємо ранг матриці A\n",
        "rank_A = np.linalg.matrix_rank(A)\n",
        "# Виводимо результат\n",
        "print(\"Ранг матриці A:\")\n",
        "print(rank_A)"
      ],
      "metadata": {
        "colab": {
          "base_uri": "https://localhost:8080/"
        },
        "id": "EG5hvGDWDrK7",
        "outputId": "fb99fb1f-4703-4d7b-94cf-2dd01525a8bb"
      },
      "execution_count": 8,
      "outputs": [
        {
          "output_type": "stream",
          "name": "stdout",
          "text": [
            "Ранг матриці A:\n",
            "3\n"
          ]
        }
      ]
    },
    {
      "cell_type": "code",
      "source": [
        "import numpy as np\n",
        "# Визначаємо матрицю A та вектор b\n",
        "A = np.array([\n",
        "    [3, 2, 1],\n",
        "    [2, -1, 1],\n",
        "    [1, 5, 0]\n",
        "])\n",
        "b = np.array([5, 6, -3])\n",
        "# Метод Крамера\n",
        "det_A = np.linalg.det(A)\n",
        "# A_x, A_y, A_z - матриці для заміни стовпців\n",
        "A_x = np.array([\n",
        "    [5, 2, 1],\n",
        "    [6, -1, 1],\n",
        "    [-3, 5, 0]\n",
        "])\n",
        "\n",
        "A_y = np.array([\n",
        "    [3, 5, 1],\n",
        "    [2, 6, 1],\n",
        "    [1, -3, 0]\n",
        "])\n",
        "\n",
        "A_z = np.array([\n",
        "    [3, 2, 5],\n",
        "    [2, -1, 6],\n",
        "    [1, 5, -3]\n",
        "])\n",
        "det_Ax = np.linalg.det(A_x)\n",
        "det_Ay = np.linalg.det(A_y)\n",
        "det_Az = np.linalg.det(A_z)\n",
        "x_Cramer = det_Ax / det_A\n",
        "y_Cramer = det_Ay / det_A\n",
        "z_Cramer = det_Az / det_A\n",
        "print(\"Метод Крамера: x =\", x_Cramer, \", y =\", y_Cramer, \", z =\", z_Cramer)\n",
        "# Матричний метод\n",
        "A_inv = np.linalg.inv(A)\n",
        "x_matrix = np.dot(A_inv, b)\n",
        "print(\"Матричний метод: x =\", x_matrix[0], \", y =\", x_matrix[1], \", z =\", x_matrix[2])\n",
        "# Метод Гауса (використовуємо numpy.linalg.solve)\n",
        "x_Gauss = np.linalg.solve(A, b)\n",
        "print(\"Метод Гауса: x =\", x_Gauss[0], \", y =\", x_Gauss[1], \", z =\", x_Gauss[2])\n",
        "# Перевірка за допомогою numpy.linalg.solve\n",
        "x_check = np.linalg.solve(A, b)\n",
        "print(\"Перевірка за допомогою solve(): x =\", x_check[0], \", y =\", x_check[1], \", z =\", x_check[2])"
      ],
      "metadata": {
        "colab": {
          "base_uri": "https://localhost:8080/"
        },
        "id": "pzzLKNiJER7P",
        "outputId": "ab381a18-72da-4181-f42e-fbc378ad500e"
      },
      "execution_count": 9,
      "outputs": [
        {
          "output_type": "stream",
          "name": "stdout",
          "text": [
            "Метод Крамера: x = 1.9999999999999956 , y = -0.9999999999999998 , z = 1.0000000000000073\n",
            "Матричний метод: x = 2.0000000000000013 , y = -1.0000000000000004 , z = 1.0000000000000022\n",
            "Метод Гауса: x = 1.9999999999999982 , y = -0.9999999999999996 , z = 1.0000000000000042\n",
            "Перевірка за допомогою solve(): x = 1.9999999999999982 , y = -0.9999999999999996 , z = 1.0000000000000042\n"
          ]
        }
      ]
    },
    {
      "cell_type": "code",
      "source": [
        "import numpy as np\n",
        "# Встановлюємо розміри матриці\n",
        "N = 4  # Кількість рядків\n",
        "M = 5  # Кількість стовпців\n",
        "# Створюємо матрицю з випадкових чисел\n",
        "A = np.random.randint(0, 10, size=(N, M))\n",
        "# Виводимо матрицю\n",
        "print(\"Матриця A:\")\n",
        "print(A)\n",
        "# Обчислюємо середнє значення для кожного рядка\n",
        "row_means = np.mean(A, axis=1)\n",
        "# Знаходимо найменше серед середніх значень рядків\n",
        "min_row_mean = np.min(row_means)\n",
        "# Виводимо результати\n",
        "print(\"\\nСередні значення для кожного рядка:\")\n",
        "print(row_means)\n",
        "print(\"\\nНайменше серед середніх значень рядків:\")\n",
        "print(min_row_mean)"
      ],
      "metadata": {
        "colab": {
          "base_uri": "https://localhost:8080/"
        },
        "id": "2C-ANnV2GDVJ",
        "outputId": "c885d853-6a5f-4ed0-b79d-11a42795df81"
      },
      "execution_count": 10,
      "outputs": [
        {
          "output_type": "stream",
          "name": "stdout",
          "text": [
            "Матриця A:\n",
            "[[3 3 3 5 7]\n",
            " [3 1 8 2 3]\n",
            " [8 0 1 1 0]\n",
            " [5 9 8 6 8]]\n",
            "\n",
            "Середні значення для кожного рядка:\n",
            "[4.2 3.4 2.  7.2]\n",
            "\n",
            "Найменше серед середніх значень рядків:\n",
            "2.0\n"
          ]
        }
      ]
    }
  ]
}