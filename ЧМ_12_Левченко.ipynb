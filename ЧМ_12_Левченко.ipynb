{
  "nbformat": 4,
  "nbformat_minor": 0,
  "metadata": {
    "colab": {
      "provenance": [],
      "authorship_tag": "ABX9TyOVtUHXJXWYJkk0Dj+VXhuC",
      "include_colab_link": true
    },
    "kernelspec": {
      "name": "python3",
      "display_name": "Python 3"
    },
    "language_info": {
      "name": "python"
    }
  },
  "cells": [
    {
      "cell_type": "markdown",
      "metadata": {
        "id": "view-in-github",
        "colab_type": "text"
      },
      "source": [
        "<a href=\"https://colab.research.google.com/github/alevchencko/-2-8-/blob/main/%D0%A7%D0%9C_12_%D0%9B%D0%B5%D0%B2%D1%87%D0%B5%D0%BD%D0%BA%D0%BE.ipynb\" target=\"_parent\"><img src=\"https://colab.research.google.com/assets/colab-badge.svg\" alt=\"Open In Colab\"/></a>"
      ]
    },
    {
      "cell_type": "code",
      "execution_count": 1,
      "metadata": {
        "colab": {
          "base_uri": "https://localhost:8080/"
        },
        "id": "hCCcZ09EKp_3",
        "outputId": "237c09ec-f24f-45b1-96b6-d6a916178fd4"
      },
      "outputs": [
        {
          "output_type": "stream",
          "name": "stdout",
          "text": [
            "Метод прямокутників (ліві, праві, середні):\n",
            "Інтеграл 1 (лівий): 0.5247217025078051\n",
            "Інтеграл 1 (правий): 0.5090437148861136\n",
            "Інтеграл 1 (середній): 0.5166991278758216\n",
            "\n",
            "Метод Сімпсона:\n",
            "Інтеграл 2: 0.4010014073193644\n",
            "\n",
            "Метод трапецій:\n",
            "Інтеграл 1: 0.5167909182863905\n",
            "Інтеграл 2: 0.2818037776610553\n",
            "Інтеграл 3: 0.5038942509459489\n"
          ]
        }
      ],
      "source": [
        "import numpy as np\n",
        "# Перший інтеграл: f(x) = 1 / sqrt(2*x + 1)\n",
        "def f1(x):\n",
        "    return 1 / np.sqrt(2 * x + 1)\n",
        "# Другий інтеграл: f(x) = tan(x^2 + 0.5) / (1 + 2*x^2)\n",
        "def f2(x):\n",
        "    return np.tan(x**2 + 0.5) / (1 + 2 * x**2)\n",
        "# Третій інтеграл: f(x) = 1 / sqrt(2*x^2 + 0.3)\n",
        "def f3(x):\n",
        "    return 1 / np.sqrt(2 * x**2 + 0.3)\n",
        "# Метод прямокутників\n",
        "def rectangle_method(f, a, b, n, method='left'):\n",
        "    h = (b - a) / n\n",
        "    if method == 'left':\n",
        "        return h * sum(f(a + i * h) for i in range(n))\n",
        "    elif method == 'right':\n",
        "        return h * sum(f(a + (i + 1) * h) for i in range(n))\n",
        "    elif method == 'mid':\n",
        "        return h * sum(f(a + (i + 0.5) * h) for i in range(n))\n",
        "# Метод трапецій\n",
        "def trapezoidal_method(f, a, b, n):\n",
        "    h = (b - a) / n\n",
        "    return h * (0.5 * f(a) + sum(f(a + i * h) for i in range(1, n)) + 0.5 * f(b))\n",
        "# Метод Сімпсона\n",
        "def simpson_method(f, a, b, n):\n",
        "    if n % 2 != 0:\n",
        "        raise ValueError(\"n must be even for Simpson's method.\")\n",
        "    h = (b - a) / n\n",
        "    return (h / 3) * (f(a) + 4 * sum(f(a + (i + 0.5) * h) for i in range(n)) + f(b))\n",
        "# Параметри\n",
        "n_rect = 10  # для методу прямокутників\n",
        "n_simp = 8   # для методу Сімпсона\n",
        "n_trap = 20  # для методу трапецій\n",
        "# Межі інтегралів\n",
        "a1, b1 = 0.6, 1.5\n",
        "a2, b2 = 0.4, 0.8\n",
        "a3, b3 = 0.8, 1.7\n",
        "# Обчислення\n",
        "# 1) Метод прямокутників\n",
        "print(\"Метод прямокутників (ліві, праві, середні):\")\n",
        "print(\"Інтеграл 1 (лівий):\", rectangle_method(f1, a1, b1, n_rect, method='left'))\n",
        "print(\"Інтеграл 1 (правий):\", rectangle_method(f1, a1, b1, n_rect, method='right'))\n",
        "print(\"Інтеграл 1 (середній):\", rectangle_method(f1, a1, b1, n_rect, method='mid'))\n",
        "# 2) Метод Сімпсона\n",
        "print(\"\\nМетод Сімпсона:\")\n",
        "print(\"Інтеграл 2:\", simpson_method(f2, a2, b2, n_simp))\n",
        "# 3) Метод трапецій\n",
        "print(\"\\nМетод трапецій:\")\n",
        "print(\"Інтеграл 1:\", trapezoidal_method(f1, a1, b1, n_trap))\n",
        "print(\"Інтеграл 2:\", trapezoidal_method(f2, a2, b2, n_trap))\n",
        "print(\"Інтеграл 3:\", trapezoidal_method(f3, a3, b3, n_trap))"
      ]
    }
  ]
}